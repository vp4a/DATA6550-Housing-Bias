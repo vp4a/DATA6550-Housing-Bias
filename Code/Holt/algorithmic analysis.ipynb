{
 "cells": [
  {
   "cell_type": "markdown",
   "id": "97988602",
   "metadata": {},
   "source": [
    "## Algorithmic Bias\n",
    "will holt, with the help of deepseek ai"
   ]
  },
  {
   "cell_type": "markdown",
   "id": "9a6898df",
   "metadata": {},
   "source": [
    "intro\n",
    "this section of our project is focused on identifying algorithmic bias present in historically 'racist' areas due to racial covenants. This section will adress how modern lending systems may perpetuate discrimination via mortgage approval rates and terms, risk assessment criteria, and use of potentially biased proxy variables."
   ]
  },
  {
   "cell_type": "markdown",
   "id": "9aab9ef4",
   "metadata": {},
   "source": [
    "import data"
   ]
  },
  {
   "cell_type": "code",
   "execution_count": 1,
   "id": "3e287c6f",
   "metadata": {},
   "outputs": [
    {
     "data": {
      "text/html": [
       "<div>\n",
       "<style scoped>\n",
       "    .dataframe tbody tr th:only-of-type {\n",
       "        vertical-align: middle;\n",
       "    }\n",
       "\n",
       "    .dataframe tbody tr th {\n",
       "        vertical-align: top;\n",
       "    }\n",
       "\n",
       "    .dataframe thead th {\n",
       "        text-align: right;\n",
       "    }\n",
       "</style>\n",
       "<table border=\"1\" class=\"dataframe\">\n",
       "  <thead>\n",
       "    <tr style=\"text-align: right;\">\n",
       "      <th></th>\n",
       "      <th>activity_year</th>\n",
       "      <th>census_tract</th>\n",
       "      <th>derived_race</th>\n",
       "      <th>action_taken</th>\n",
       "      <th>loan_amount</th>\n",
       "      <th>property_value</th>\n",
       "      <th>income</th>\n",
       "      <th>interest_rate</th>\n",
       "      <th>tract_minority_population_percent</th>\n",
       "      <th>tract_to_msa_income_percentage</th>\n",
       "      <th>denial_reason-1</th>\n",
       "      <th>covenant_count</th>\n",
       "      <th>was_approved</th>\n",
       "      <th>covenant_density</th>\n",
       "    </tr>\n",
       "  </thead>\n",
       "  <tbody>\n",
       "    <tr>\n",
       "      <th>0</th>\n",
       "      <td>2023</td>\n",
       "      <td>2.703706e+10</td>\n",
       "      <td>Race Not Available</td>\n",
       "      <td>6</td>\n",
       "      <td>185000.0</td>\n",
       "      <td>195000.0</td>\n",
       "      <td>NaN</td>\n",
       "      <td>6.125</td>\n",
       "      <td>40.37</td>\n",
       "      <td>73.48</td>\n",
       "      <td>10</td>\n",
       "      <td>0.0</td>\n",
       "      <td>False</td>\n",
       "      <td>NaN</td>\n",
       "    </tr>\n",
       "    <tr>\n",
       "      <th>1</th>\n",
       "      <td>2023</td>\n",
       "      <td>2.714103e+10</td>\n",
       "      <td>Race Not Available</td>\n",
       "      <td>6</td>\n",
       "      <td>375000.0</td>\n",
       "      <td>385000.0</td>\n",
       "      <td>NaN</td>\n",
       "      <td>6.625</td>\n",
       "      <td>10.64</td>\n",
       "      <td>121.26</td>\n",
       "      <td>10</td>\n",
       "      <td>0.0</td>\n",
       "      <td>False</td>\n",
       "      <td>NaN</td>\n",
       "    </tr>\n",
       "    <tr>\n",
       "      <th>2</th>\n",
       "      <td>2023</td>\n",
       "      <td>2.702395e+10</td>\n",
       "      <td>Race Not Available</td>\n",
       "      <td>6</td>\n",
       "      <td>105000.0</td>\n",
       "      <td>105000.0</td>\n",
       "      <td>NaN</td>\n",
       "      <td>6.125</td>\n",
       "      <td>8.92</td>\n",
       "      <td>90.13</td>\n",
       "      <td>10</td>\n",
       "      <td>0.0</td>\n",
       "      <td>False</td>\n",
       "      <td>NaN</td>\n",
       "    </tr>\n",
       "    <tr>\n",
       "      <th>3</th>\n",
       "      <td>2023</td>\n",
       "      <td>2.717110e+10</td>\n",
       "      <td>Race Not Available</td>\n",
       "      <td>6</td>\n",
       "      <td>285000.0</td>\n",
       "      <td>285000.0</td>\n",
       "      <td>NaN</td>\n",
       "      <td>6.750</td>\n",
       "      <td>13.27</td>\n",
       "      <td>104.37</td>\n",
       "      <td>10</td>\n",
       "      <td>0.0</td>\n",
       "      <td>False</td>\n",
       "      <td>NaN</td>\n",
       "    </tr>\n",
       "    <tr>\n",
       "      <th>4</th>\n",
       "      <td>2023</td>\n",
       "      <td>2.715948e+10</td>\n",
       "      <td>Race Not Available</td>\n",
       "      <td>6</td>\n",
       "      <td>175000.0</td>\n",
       "      <td>175000.0</td>\n",
       "      <td>NaN</td>\n",
       "      <td>6.875</td>\n",
       "      <td>5.87</td>\n",
       "      <td>82.22</td>\n",
       "      <td>10</td>\n",
       "      <td>0.0</td>\n",
       "      <td>False</td>\n",
       "      <td>NaN</td>\n",
       "    </tr>\n",
       "  </tbody>\n",
       "</table>\n",
       "</div>"
      ],
      "text/plain": [
       "   activity_year  census_tract        derived_race  action_taken  loan_amount  \\\n",
       "0           2023  2.703706e+10  Race Not Available             6     185000.0   \n",
       "1           2023  2.714103e+10  Race Not Available             6     375000.0   \n",
       "2           2023  2.702395e+10  Race Not Available             6     105000.0   \n",
       "3           2023  2.717110e+10  Race Not Available             6     285000.0   \n",
       "4           2023  2.715948e+10  Race Not Available             6     175000.0   \n",
       "\n",
       "   property_value  income  interest_rate  tract_minority_population_percent  \\\n",
       "0        195000.0     NaN          6.125                              40.37   \n",
       "1        385000.0     NaN          6.625                              10.64   \n",
       "2        105000.0     NaN          6.125                               8.92   \n",
       "3        285000.0     NaN          6.750                              13.27   \n",
       "4        175000.0     NaN          6.875                               5.87   \n",
       "\n",
       "   tract_to_msa_income_percentage  denial_reason-1  covenant_count  \\\n",
       "0                           73.48               10             0.0   \n",
       "1                          121.26               10             0.0   \n",
       "2                           90.13               10             0.0   \n",
       "3                          104.37               10             0.0   \n",
       "4                           82.22               10             0.0   \n",
       "\n",
       "   was_approved covenant_density  \n",
       "0         False              NaN  \n",
       "1         False              NaN  \n",
       "2         False              NaN  \n",
       "3         False              NaN  \n",
       "4         False              NaN  "
      ]
     },
     "execution_count": 1,
     "metadata": {},
     "output_type": "execute_result"
    }
   ],
   "source": [
    "import pandas as pd\n",
    "file_path = r'Data/mortgage_covenant_data.csv'\n",
    "hmda_data = pd.read_csv(file_path)\n",
    "hmda_data.head()"
   ]
  },
  {
   "cell_type": "markdown",
   "id": "acd61d22",
   "metadata": {},
   "source": [
    "explore and clean data"
   ]
  },
  {
   "cell_type": "code",
   "execution_count": 2,
   "id": "bf2d7dca",
   "metadata": {},
   "outputs": [
    {
     "name": "stdout",
     "output_type": "stream",
     "text": [
      "   loan_amount  action_taken        derived_race  income  \\\n",
      "0     185000.0             6  Race Not Available     NaN   \n",
      "1     375000.0             6  Race Not Available     NaN   \n",
      "2     105000.0             6  Race Not Available     NaN   \n",
      "3     285000.0             6  Race Not Available     NaN   \n",
      "4     175000.0             6  Race Not Available     NaN   \n",
      "\n",
      "   tract_minority_population_percent  \n",
      "0                              40.37  \n",
      "1                              10.64  \n",
      "2                               8.92  \n",
      "3                              13.27  \n",
      "4                               5.87  \n"
     ]
    }
   ],
   "source": [
    "columns_to_keep = ['loan_amount', 'action_taken', 'derived_race', 'income', 'tract_minority_population_percent']\n",
    "hmda_data = hmda_data[columns_to_keep]\n",
    "print(hmda_data.head())"
   ]
  },
  {
   "cell_type": "markdown",
   "id": "878a89c0",
   "metadata": {},
   "source": [
    "clean data"
   ]
  },
  {
   "cell_type": "code",
   "execution_count": 3,
   "id": "4d2ecf53",
   "metadata": {},
   "outputs": [
    {
     "name": "stdout",
     "output_type": "stream",
     "text": [
      "loan_amount                          0\n",
      "action_taken                         0\n",
      "derived_race                         0\n",
      "income                               0\n",
      "tract_minority_population_percent    0\n",
      "dtype: int64\n"
     ]
    }
   ],
   "source": [
    "# Drop rows with missing values in key columns\n",
    "hmda_data = hmda_data.dropna(subset=['loan_amount', 'action_taken', 'income', 'tract_minority_population_percent'])\n",
    "print(hmda_data.isnull().sum())"
   ]
  },
  {
   "cell_type": "markdown",
   "id": "5ba96a21",
   "metadata": {},
   "source": [
    "make action taken binary"
   ]
  },
  {
   "cell_type": "code",
   "execution_count": 4,
   "id": "e5907c93",
   "metadata": {},
   "outputs": [
    {
     "name": "stdout",
     "output_type": "stream",
     "text": [
      "approved\n",
      "1    62563\n",
      "0    25637\n",
      "Name: count, dtype: int64\n"
     ]
    }
   ],
   "source": [
    "# Create a new column 'approved' where 1 = approved and 0 = denied\n",
    "hmda_data['approved'] = hmda_data['action_taken'].apply(lambda x: 1 if x == 1 else 0)\n",
    "print(hmda_data['approved'].value_counts())"
   ]
  },
  {
   "cell_type": "markdown",
   "id": "5776a293",
   "metadata": {},
   "source": [
    "analyze loan approval rates by race"
   ]
  },
  {
   "cell_type": "code",
   "execution_count": 5,
   "id": "61b56b89",
   "metadata": {
    "scrolled": true
   },
   "outputs": [
    {
     "name": "stdout",
     "output_type": "stream",
     "text": [
      "derived_race\n",
      "2 or more minority races                     0.622222\n",
      "American Indian or Alaska Native             0.597163\n",
      "Asian                                        0.687393\n",
      "Black or African American                    0.585913\n",
      "Free Form Text Only                          0.800000\n",
      "Joint                                        0.729461\n",
      "Native Hawaiian or Other Pacific Islander    0.553571\n",
      "Race Not Available                           0.611235\n",
      "White                                        0.739222\n",
      "Name: approved, dtype: float64\n"
     ]
    }
   ],
   "source": [
    "if 'derived_race' in hmda_data.columns:\n",
    "    approval_rates_by_race = hmda_data.groupby('derived_race')['approved'].mean()\n",
    "    print(approval_rates_by_race)"
   ]
  },
  {
   "cell_type": "markdown",
   "id": "1151e1a2",
   "metadata": {},
   "source": [
    "key findings:\n",
    "- white applicants have highest approval rate of 74%, followed by asian individuals at 69%\n",
    "- black, hawaiian and pacific islanders both have approval rates near 55%, lowest of all\n",
    "- suggestion is that racial disparities exist in loan approval rates, even if race is excluded as a factor altogether"
   ]
  },
  {
   "cell_type": "markdown",
   "id": "d24bc7b7",
   "metadata": {},
   "source": [
    "approval rates by tract minority population"
   ]
  },
  {
   "cell_type": "code",
   "execution_count": 6,
   "id": "ca06e19c",
   "metadata": {
    "scrolled": true
   },
   "outputs": [
    {
     "name": "stdout",
     "output_type": "stream",
     "text": [
      "minority_population_category\n",
      "Low       0.733455\n",
      "Medium    0.705028\n",
      "High      0.639242\n",
      "Name: approved, dtype: float64\n"
     ]
    }
   ],
   "source": [
    "# Bin the minority population percentage into categories (e.g., low, medium, high)\n",
    "hmda_data['minority_population_category'] = pd.cut(\n",
    "    hmda_data['tract_minority_population_percent'],\n",
    "    bins=[0, 20, 50, 100],\n",
    "    labels=['Low', 'Medium', 'High']\n",
    ")\n",
    "\n",
    "# Calculate approval rates by minority population category\n",
    "approval_rates_by_minority_population = hmda_data.groupby('minority_population_category')['approved'].mean()\n",
    "print(approval_rates_by_minority_population)"
   ]
  },
  {
   "cell_type": "markdown",
   "id": "d7709b12",
   "metadata": {},
   "source": [
    "key findings:\n",
    "- low minority population tracts have highest approval rates, almost 75%\n",
    "- high minority population rate result in way lower rates (64%)\n",
    "- this indicates that having more minorities in an area will resultin biased loan approval decisions"
   ]
  },
  {
   "cell_type": "markdown",
   "id": "6c2673d2",
   "metadata": {},
   "source": [
    "proxy variables"
   ]
  },
  {
   "cell_type": "code",
   "execution_count": 7,
   "id": "3fa17309",
   "metadata": {
    "scrolled": true
   },
   "outputs": [
    {
     "name": "stdout",
     "output_type": "stream",
     "text": [
      "Correlation between income and approval: 0.0037769435356970857\n"
     ]
    }
   ],
   "source": [
    "correlation_income_approval = hmda_data['income'].corr(hmda_data['approved'])\n",
    "print(f\"Correlation between income and approval: {correlation_income_approval}\")"
   ]
  },
  {
   "cell_type": "markdown",
   "id": "eb812368",
   "metadata": {},
   "source": [
    "findings:\n",
    "- very weak 0.0038 correlation\n",
    "- implies income is a poor predictor of loan approval here"
   ]
  },
  {
   "cell_type": "code",
   "execution_count": 8,
   "id": "a4a6d964",
   "metadata": {
    "scrolled": true
   },
   "outputs": [
    {
     "name": "stdout",
     "output_type": "stream",
     "text": [
      "Correlation between loan amount and approval: 0.04881710646375199\n"
     ]
    }
   ],
   "source": [
    "correlation_loan_amount_approval = hmda_data['loan_amount'].corr(hmda_data['approved'])\n",
    "print(f\"Correlation between loan amount and approval: {correlation_loan_amount_approval}\")"
   ]
  },
  {
   "cell_type": "markdown",
   "id": "67ed8238",
   "metadata": {},
   "source": [
    "findings:\n",
    "- the correlation is still small, 0.0488\n",
    "- implies that the larger the loan, the slightly more likely it will be approved."
   ]
  },
  {
   "cell_type": "markdown",
   "id": "508070cd",
   "metadata": {},
   "source": [
    "visuals"
   ]
  },
  {
   "cell_type": "code",
   "execution_count": 9,
   "id": "10faed45",
   "metadata": {
    "scrolled": false
   },
   "outputs": [
    {
     "data": {
      "image/png": "[encoded data removed]",
      "text/plain": [
       "<Figure size 640x480 with 1 Axes>"
      ]
     },
     "metadata": {},
     "output_type": "display_data"
    }
   ],
   "source": [
    "import matplotlib.pyplot as plt\n",
    "approval_rates_by_minority_population.plot(kind='bar', title='Loan Approval Rates by Minority Population Category')\n",
    "plt.xlabel('Minority Population Category')\n",
    "plt.ylabel('Approval Rate')\n",
    "plt.show()"
   ]
  },
  {
   "cell_type": "markdown",
   "id": "27f1ea7c",
   "metadata": {},
   "source": [
    "findings:\n",
    "- clearly shows trend that approval rates decline as minority population increases"
   ]
  },
  {
   "cell_type": "code",
   "execution_count": 10,
   "id": "cded7052",
   "metadata": {},
   "outputs": [
    {
     "data": {
      "image/png": "[encoded data removed]",
      "text/plain": [
       "<Figure size 640x480 with 1 Axes>"
      ]
     },
     "metadata": {},
     "output_type": "display_data"
    }
   ],
   "source": [
    "plt.scatter(hmda_data['income'], hmda_data['approved'], alpha=0.5)\n",
    "plt.title('Income vs. Loan Approval')\n",
    "plt.xlabel('Income')\n",
    "plt.ylabel('Approval (1 = Approved, 0 = Denied)')\n",
    "plt.show()"
   ]
  },
  {
   "cell_type": "markdown",
   "id": "3f68592a",
   "metadata": {},
   "source": [
    "no clear relation found for income and loan approval, supporting the weak correlation found earlier."
   ]
  }
 ],
 "metadata": {
  "kernelspec": {
   "display_name": "Python 3 (ipykernel)",
   "language": "python",
   "name": "python3"
  },
  "language_info": {
   "codemirror_mode": {
    "name": "ipython",
    "version": 3
   },
   "file_extension": ".py",
   "mimetype": "text/x-python",
   "name": "python",
   "nbconvert_exporter": "python",
   "pygments_lexer": "ipython3",
   "version": "3.11.5"
  }
 },
 "nbformat": 4,
 "nbformat_minor": 5
}
